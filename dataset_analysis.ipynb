{
 "cells": [
  {
   "cell_type": "code",
   "execution_count": 1,
   "id": "ec69044d-bbef-4f79-8fdd-4df860026fab",
   "metadata": {},
   "outputs": [],
   "source": [
    "import pandas as pd\n",
    "import matplotlib.pyplot as plt\n",
    "import os\n",
    "import numpy as np"
   ]
  },
  {
   "cell_type": "code",
   "execution_count": 5,
   "id": "f16378a8-28ba-4601-a24b-4bd26d02a3e9",
   "metadata": {},
   "outputs": [
    {
     "data": {
      "text/plain": [
       "['test.csv', 'train.csv']"
      ]
     },
     "execution_count": 5,
     "metadata": {},
     "output_type": "execute_result"
    }
   ],
   "source": [
    "datadir = r\"D:\\zzStuff\\MS_INFOTECH\\04_Laboratory\\DL_Lab\\DLL_Datasets\\IDRID_dataset\\labels\"\n",
    "os.listdir(datadir)"
   ]
  },
  {
   "cell_type": "code",
   "execution_count": 22,
   "id": "aeda9c64-8204-4a58-aa4a-cc64f2c349b6",
   "metadata": {},
   "outputs": [
    {
     "name": "stdout",
     "output_type": "stream",
     "text": [
      "[0 1 2 3 4]\n"
     ]
    },
    {
     "data": {
      "text/html": [
       "<div>\n",
       "<style scoped>\n",
       "    .dataframe tbody tr th:only-of-type {\n",
       "        vertical-align: middle;\n",
       "    }\n",
       "\n",
       "    .dataframe tbody tr th {\n",
       "        vertical-align: top;\n",
       "    }\n",
       "\n",
       "    .dataframe thead th {\n",
       "        text-align: right;\n",
       "    }\n",
       "</style>\n",
       "<table border=\"1\" class=\"dataframe\">\n",
       "  <thead>\n",
       "    <tr style=\"text-align: right;\">\n",
       "      <th></th>\n",
       "      <th>Image</th>\n",
       "      <th>Grade</th>\n",
       "      <th>Risk</th>\n",
       "    </tr>\n",
       "  </thead>\n",
       "  <tbody>\n",
       "    <tr>\n",
       "      <th>0</th>\n",
       "      <td>IDRiD_001</td>\n",
       "      <td>3</td>\n",
       "      <td>2</td>\n",
       "    </tr>\n",
       "    <tr>\n",
       "      <th>1</th>\n",
       "      <td>IDRiD_002</td>\n",
       "      <td>3</td>\n",
       "      <td>2</td>\n",
       "    </tr>\n",
       "    <tr>\n",
       "      <th>2</th>\n",
       "      <td>IDRiD_003</td>\n",
       "      <td>2</td>\n",
       "      <td>2</td>\n",
       "    </tr>\n",
       "    <tr>\n",
       "      <th>3</th>\n",
       "      <td>IDRiD_004</td>\n",
       "      <td>3</td>\n",
       "      <td>2</td>\n",
       "    </tr>\n",
       "    <tr>\n",
       "      <th>4</th>\n",
       "      <td>IDRiD_005</td>\n",
       "      <td>4</td>\n",
       "      <td>0</td>\n",
       "    </tr>\n",
       "  </tbody>\n",
       "</table>\n",
       "</div>"
      ],
      "text/plain": [
       "       Image  Grade  Risk\n",
       "0  IDRiD_001      3     2\n",
       "1  IDRiD_002      3     2\n",
       "2  IDRiD_003      2     2\n",
       "3  IDRiD_004      3     2\n",
       "4  IDRiD_005      4     0"
      ]
     },
     "execution_count": 22,
     "metadata": {},
     "output_type": "execute_result"
    }
   ],
   "source": [
    "df = pd.read_csv(datadir+'/train.csv')\n",
    "df.drop(df.columns[3:], axis=1, inplace=True)\n",
    "df.columns = ['Image', 'Grade', 'Risk']\n",
    "grades = df['Grade'].unique()\n",
    "grades.sort()\n",
    "print(grades)\n",
    "df.head()"
   ]
  },
  {
   "cell_type": "code",
   "execution_count": 64,
   "id": "83044e87-ce69-4295-a96a-76b059f2c18b",
   "metadata": {},
   "outputs": [],
   "source": [
    "df2 = df.groupby('Grade')['Image'].nunique()\n"
   ]
  },
  {
   "cell_type": "code",
   "execution_count": 93,
   "id": "5c44e07e-2864-4dcf-849f-ac972fb82833",
   "metadata": {},
   "outputs": [],
   "source": [
    "gr, im = ['0', '1'], []\n",
    "v2, v3 = 0, 0\n",
    "for i, v in enumerate(df2):\n",
    "    if i < 2:\n",
    "        v2 += v\n",
    "    else:\n",
    "        v3 += v\n",
    "im.append(v2)\n",
    "im.append(v3)"
   ]
  },
  {
   "cell_type": "code",
   "execution_count": 114,
   "id": "af33aa24",
   "metadata": {},
   "outputs": [
    {
     "data": {
      "image/png": "[encoded data removed]",
      "text/plain": [
       "<Figure size 720x360 with 3 Axes>"
      ]
     },
     "metadata": {
      "needs_background": "light"
     },
     "output_type": "display_data"
    }
   ],
   "source": [
    "# Preparing the data to subplots\n",
    "x = np.linspace(0, 10, 10)\n",
    "y1 = x + 3\n",
    "y2 = x + 9\n",
    "y3 = x + 13\n",
    "y4 = x + 17\n",
    "\n",
    "# Defining figure and axes objects using matplotlib.pyplot.subplots(),\n",
    "# specifying the sharing of x-axis and y-axis to the subplots\n",
    "fig, ax = plt.subplots(1, 2, sharey=True, figsize=[10, 5], gridspec_kw={'width_ratios': [2, 1]})\n",
    "\n",
    "# Plot the subplots\n",
    "# Plot 1\n",
    "ax[0].bar(grades, df2)\n",
    "ax[0].set_title('All Grades of Diabetic Retinopathy', fontsize=15)\n",
    "\n",
    "# Plot 2\n",
    "ax[1].bar(gr, im, 0.5)\n",
    "ax[1].set_title('NRDR and RDR', fontsize=15)\n",
    "\n",
    "# Adding a plot in the figure which will encapsulate all the subplots with axis showing only\n",
    "fig.add_subplot(1, 1, 1, frame_on=False)\n",
    "\n",
    "# Hiding the axis ticks and tick labels of the bigger plot\n",
    "plt.tick_params(labelcolor=\"none\", bottom=False, left=False)\n",
    "\n",
    "# Adding the x-axis and y-axis labels for the bigger plot\n",
    "plt.xlabel('Grade', fontsize=18, fontweight='bold')\n",
    "plt.ylabel('Number of Images', fontsize=18, fontweight='bold')\n",
    "\n",
    "plt.show()"
   ]
  }
 ],
 "metadata": {
  "kernelspec": {
   "display_name": "Python 3 (ipykernel)",
   "language": "python",
   "name": "python3"
  },
  "language_info": {
   "codemirror_mode": {
    "name": "ipython",
    "version": 3
   },
   "file_extension": ".py",
   "mimetype": "text/x-python",
   "name": "python",
   "nbconvert_exporter": "python",
   "pygments_lexer": "ipython3",
   "version": "3.9.5"
  }
 },
 "nbformat": 4,
 "nbformat_minor": 5
}
